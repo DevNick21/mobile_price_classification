{
 "cells": [
  {
   "cell_type": "code",
   "execution_count": 1,
   "metadata": {},
   "outputs": [
    {
     "name": "stdout",
     "output_type": "stream",
     "text": [
      "WARNING:tensorflow:From c:\\ProgramData\\anaconda3\\envs\\py3-TF2.0\\Lib\\site-packages\\keras\\src\\losses.py:2976: The name tf.losses.sparse_softmax_cross_entropy is deprecated. Please use tf.compat.v1.losses.sparse_softmax_cross_entropy instead.\n",
      "\n"
     ]
    }
   ],
   "source": [
    "import numpy as np\n",
    "import tensorflow as tf\n",
    "from keras import regularizers"
   ]
  },
  {
   "cell_type": "markdown",
   "metadata": {},
   "source": [
    "### Loading the data"
   ]
  },
  {
   "cell_type": "code",
   "execution_count": 2,
   "metadata": {},
   "outputs": [],
   "source": [
    "npz_train = np.load('Mobile_price_train.npz')\n",
    "\n",
    "train_inputs, train_targets = npz_train['inputs'].astype(np.float16), npz_train['targets'].astype(np.int32)\n",
    "\n",
    "npz_val = np.load('Mobile_price_validation.npz')\n",
    "\n",
    "validation_inputs, validation_targets = npz_val['inputs'].astype(np.float16), npz_val['targets'].astype(np.int32)\n",
    "\n",
    "npz_test = np.load('Mobile_price_test.npz')\n",
    "\n",
    "test_inputs, test_targets = npz_test['inputs'].astype(np.float16), npz_test['targets'].astype(np.int32)"
   ]
  },
  {
   "cell_type": "code",
   "execution_count": 3,
   "metadata": {},
   "outputs": [
    {
     "data": {
      "text/plain": [
       "(1280, 17)"
      ]
     },
     "execution_count": 3,
     "metadata": {},
     "output_type": "execute_result"
    }
   ],
   "source": [
    "train_inputs.shape"
   ]
  },
  {
   "cell_type": "code",
   "execution_count": 4,
   "metadata": {},
   "outputs": [
    {
     "name": "stdout",
     "output_type": "stream",
     "text": [
      "WARNING:tensorflow:From c:\\ProgramData\\anaconda3\\envs\\py3-TF2.0\\Lib\\site-packages\\keras\\src\\backend.py:873: The name tf.get_default_graph is deprecated. Please use tf.compat.v1.get_default_graph instead.\n",
      "\n",
      "WARNING:tensorflow:From c:\\ProgramData\\anaconda3\\envs\\py3-TF2.0\\Lib\\site-packages\\keras\\src\\optimizers\\__init__.py:309: The name tf.train.Optimizer is deprecated. Please use tf.compat.v1.train.Optimizer instead.\n",
      "\n",
      "Epoch 1/50\n",
      "WARNING:tensorflow:From c:\\ProgramData\\anaconda3\\envs\\py3-TF2.0\\Lib\\site-packages\\keras\\src\\utils\\tf_utils.py:492: The name tf.ragged.RaggedTensorValue is deprecated. Please use tf.compat.v1.ragged.RaggedTensorValue instead.\n",
      "\n",
      "WARNING:tensorflow:From c:\\ProgramData\\anaconda3\\envs\\py3-TF2.0\\Lib\\site-packages\\keras\\src\\engine\\base_layer_utils.py:384: The name tf.executing_eagerly_outside_functions is deprecated. Please use tf.compat.v1.executing_eagerly_outside_functions instead.\n",
      "\n",
      "13/13 - 1s - loss: 2.2807 - accuracy: 0.3242 - val_loss: 2.0260 - val_accuracy: 0.5063 - 1s/epoch - 101ms/step\n",
      "Epoch 2/50\n",
      "13/13 - 0s - loss: 1.9918 - accuracy: 0.4602 - val_loss: 1.8110 - val_accuracy: 0.6219 - 74ms/epoch - 6ms/step\n",
      "Epoch 3/50\n",
      "13/13 - 0s - loss: 1.7798 - accuracy: 0.5773 - val_loss: 1.6503 - val_accuracy: 0.6906 - 66ms/epoch - 5ms/step\n",
      "Epoch 4/50\n",
      "13/13 - 0s - loss: 1.6111 - accuracy: 0.6187 - val_loss: 1.4951 - val_accuracy: 0.7281 - 65ms/epoch - 5ms/step\n",
      "Epoch 5/50\n",
      "13/13 - 0s - loss: 1.4904 - accuracy: 0.6398 - val_loss: 1.3701 - val_accuracy: 0.7844 - 69ms/epoch - 5ms/step\n",
      "Epoch 6/50\n",
      "13/13 - 0s - loss: 1.3598 - accuracy: 0.7023 - val_loss: 1.2567 - val_accuracy: 0.7875 - 64ms/epoch - 5ms/step\n",
      "Epoch 7/50\n",
      "13/13 - 0s - loss: 1.2731 - accuracy: 0.7164 - val_loss: 1.1650 - val_accuracy: 0.8094 - 69ms/epoch - 5ms/step\n",
      "Epoch 8/50\n",
      "13/13 - 0s - loss: 1.1711 - accuracy: 0.7633 - val_loss: 1.0766 - val_accuracy: 0.8469 - 68ms/epoch - 5ms/step\n",
      "Epoch 9/50\n",
      "13/13 - 0s - loss: 1.0979 - accuracy: 0.7609 - val_loss: 0.9965 - val_accuracy: 0.8719 - 64ms/epoch - 5ms/step\n",
      "Epoch 10/50\n",
      "13/13 - 0s - loss: 1.0319 - accuracy: 0.7695 - val_loss: 0.9301 - val_accuracy: 0.8938 - 68ms/epoch - 5ms/step\n",
      "Epoch 11/50\n",
      "13/13 - 0s - loss: 0.9635 - accuracy: 0.8039 - val_loss: 0.8679 - val_accuracy: 0.8969 - 61ms/epoch - 5ms/step\n",
      "Epoch 12/50\n",
      "13/13 - 0s - loss: 0.8962 - accuracy: 0.8297 - val_loss: 0.8088 - val_accuracy: 0.9094 - 67ms/epoch - 5ms/step\n",
      "Epoch 13/50\n",
      "13/13 - 0s - loss: 0.8366 - accuracy: 0.8367 - val_loss: 0.7661 - val_accuracy: 0.8938 - 66ms/epoch - 5ms/step\n",
      "Epoch 14/50\n",
      "13/13 - 0s - loss: 0.7876 - accuracy: 0.8531 - val_loss: 0.7200 - val_accuracy: 0.9094 - 69ms/epoch - 5ms/step\n",
      "Epoch 15/50\n",
      "13/13 - 0s - loss: 0.7478 - accuracy: 0.8469 - val_loss: 0.6795 - val_accuracy: 0.9187 - 70ms/epoch - 5ms/step\n",
      "Epoch 16/50\n",
      "13/13 - 0s - loss: 0.7062 - accuracy: 0.8703 - val_loss: 0.6422 - val_accuracy: 0.9156 - 77ms/epoch - 6ms/step\n",
      "Epoch 17/50\n",
      "13/13 - 0s - loss: 0.6755 - accuracy: 0.8695 - val_loss: 0.6102 - val_accuracy: 0.9187 - 70ms/epoch - 5ms/step\n",
      "Epoch 18/50\n",
      "13/13 - 0s - loss: 0.6430 - accuracy: 0.8773 - val_loss: 0.5840 - val_accuracy: 0.9062 - 60ms/epoch - 5ms/step\n",
      "Epoch 19/50\n",
      "13/13 - 0s - loss: 0.6254 - accuracy: 0.8609 - val_loss: 0.5578 - val_accuracy: 0.9094 - 72ms/epoch - 6ms/step\n",
      "Epoch 20/50\n",
      "13/13 - 0s - loss: 0.5870 - accuracy: 0.8687 - val_loss: 0.5364 - val_accuracy: 0.9187 - 67ms/epoch - 5ms/step\n",
      "Epoch 21/50\n",
      "13/13 - 0s - loss: 0.5670 - accuracy: 0.8766 - val_loss: 0.5169 - val_accuracy: 0.9094 - 88ms/epoch - 7ms/step\n",
      "Epoch 22/50\n",
      "13/13 - 0s - loss: 0.5369 - accuracy: 0.8836 - val_loss: 0.4913 - val_accuracy: 0.9187 - 80ms/epoch - 6ms/step\n",
      "Epoch 23/50\n",
      "13/13 - 0s - loss: 0.5204 - accuracy: 0.8859 - val_loss: 0.4734 - val_accuracy: 0.9094 - 81ms/epoch - 6ms/step\n",
      "Epoch 24/50\n",
      "13/13 - 0s - loss: 0.4954 - accuracy: 0.8891 - val_loss: 0.4586 - val_accuracy: 0.9219 - 75ms/epoch - 6ms/step\n",
      "Epoch 25/50\n",
      "13/13 - 0s - loss: 0.4769 - accuracy: 0.9000 - val_loss: 0.4410 - val_accuracy: 0.9187 - 79ms/epoch - 6ms/step\n",
      "Epoch 26/50\n",
      "13/13 - 0s - loss: 0.4675 - accuracy: 0.8820 - val_loss: 0.4313 - val_accuracy: 0.9219 - 75ms/epoch - 6ms/step\n",
      "Epoch 27/50\n",
      "13/13 - 0s - loss: 0.4398 - accuracy: 0.9055 - val_loss: 0.4113 - val_accuracy: 0.9219 - 81ms/epoch - 6ms/step\n",
      "Epoch 28/50\n",
      "13/13 - 0s - loss: 0.4269 - accuracy: 0.8992 - val_loss: 0.4059 - val_accuracy: 0.9156 - 75ms/epoch - 6ms/step\n",
      "Epoch 29/50\n",
      "13/13 - 0s - loss: 0.4273 - accuracy: 0.9031 - val_loss: 0.3974 - val_accuracy: 0.9156 - 72ms/epoch - 6ms/step\n",
      "Epoch 30/50\n",
      "13/13 - 0s - loss: 0.4043 - accuracy: 0.9055 - val_loss: 0.3831 - val_accuracy: 0.9187 - 78ms/epoch - 6ms/step\n",
      "Epoch 31/50\n",
      "13/13 - 0s - loss: 0.3983 - accuracy: 0.9070 - val_loss: 0.3734 - val_accuracy: 0.9187 - 84ms/epoch - 6ms/step\n",
      "Epoch 32/50\n",
      "13/13 - 0s - loss: 0.3869 - accuracy: 0.9094 - val_loss: 0.3631 - val_accuracy: 0.9250 - 69ms/epoch - 5ms/step\n",
      "Epoch 33/50\n",
      "13/13 - 0s - loss: 0.3618 - accuracy: 0.9305 - val_loss: 0.3600 - val_accuracy: 0.9281 - 64ms/epoch - 5ms/step\n",
      "Epoch 34/50\n",
      "13/13 - 0s - loss: 0.3644 - accuracy: 0.9086 - val_loss: 0.3483 - val_accuracy: 0.9219 - 79ms/epoch - 6ms/step\n",
      "Epoch 35/50\n",
      "13/13 - 0s - loss: 0.3469 - accuracy: 0.9211 - val_loss: 0.3416 - val_accuracy: 0.9187 - 79ms/epoch - 6ms/step\n",
      "Epoch 36/50\n",
      "13/13 - 0s - loss: 0.3456 - accuracy: 0.9219 - val_loss: 0.3391 - val_accuracy: 0.9281 - 80ms/epoch - 6ms/step\n",
      "Epoch 37/50\n",
      "13/13 - 0s - loss: 0.3429 - accuracy: 0.9187 - val_loss: 0.3282 - val_accuracy: 0.9312 - 70ms/epoch - 5ms/step\n",
      "Epoch 38/50\n",
      "13/13 - 0s - loss: 0.3254 - accuracy: 0.9211 - val_loss: 0.3325 - val_accuracy: 0.9156 - 61ms/epoch - 5ms/step\n",
      "Epoch 39/50\n",
      "13/13 - 0s - loss: 0.3239 - accuracy: 0.9242 - val_loss: 0.3172 - val_accuracy: 0.9187 - 69ms/epoch - 5ms/step\n",
      "Epoch 40/50\n",
      "13/13 - 0s - loss: 0.3237 - accuracy: 0.9227 - val_loss: 0.3145 - val_accuracy: 0.9187 - 70ms/epoch - 5ms/step\n",
      "Epoch 41/50\n",
      "13/13 - 0s - loss: 0.3102 - accuracy: 0.9297 - val_loss: 0.3134 - val_accuracy: 0.9219 - 68ms/epoch - 5ms/step\n",
      "Epoch 42/50\n",
      "13/13 - 0s - loss: 0.3247 - accuracy: 0.9250 - val_loss: 0.3128 - val_accuracy: 0.9125 - 60ms/epoch - 5ms/step\n",
      "Epoch 43/50\n",
      "13/13 - 0s - loss: 0.2886 - accuracy: 0.9359 - val_loss: 0.3059 - val_accuracy: 0.9281 - 70ms/epoch - 5ms/step\n",
      "Epoch 44/50\n",
      "13/13 - 0s - loss: 0.3000 - accuracy: 0.9297 - val_loss: 0.3069 - val_accuracy: 0.9125 - 93ms/epoch - 7ms/step\n",
      "Epoch 45/50\n",
      "13/13 - 0s - loss: 0.2898 - accuracy: 0.9281 - val_loss: 0.2961 - val_accuracy: 0.9094 - 70ms/epoch - 5ms/step\n",
      "Epoch 46/50\n",
      "13/13 - 0s - loss: 0.2934 - accuracy: 0.9266 - val_loss: 0.2947 - val_accuracy: 0.9187 - 57ms/epoch - 4ms/step\n",
      "Epoch 47/50\n",
      "13/13 - 0s - loss: 0.2876 - accuracy: 0.9297 - val_loss: 0.2922 - val_accuracy: 0.9250 - 61ms/epoch - 5ms/step\n",
      "Epoch 48/50\n",
      "13/13 - 0s - loss: 0.2720 - accuracy: 0.9469 - val_loss: 0.2869 - val_accuracy: 0.9094 - 69ms/epoch - 5ms/step\n",
      "Epoch 49/50\n",
      "13/13 - 0s - loss: 0.2732 - accuracy: 0.9391 - val_loss: 0.2851 - val_accuracy: 0.9156 - 70ms/epoch - 5ms/step\n",
      "Epoch 50/50\n",
      "13/13 - 0s - loss: 0.2757 - accuracy: 0.9383 - val_loss: 0.2823 - val_accuracy: 0.9187 - 67ms/epoch - 5ms/step\n"
     ]
    },
    {
     "data": {
      "text/plain": [
       "<keras.src.callbacks.History at 0x1e2594f9dd0>"
      ]
     },
     "execution_count": 4,
     "metadata": {},
     "output_type": "execute_result"
    }
   ],
   "source": [
    "output_size = 4\n",
    "hidden_layer_size = 150\n",
    "model = tf.keras.Sequential([\n",
    "                            tf.keras.layers.Dense(\n",
    "                                hidden_layer_size, activation='relu'),\n",
    "                            tf.keras.layers.Dropout(0.5),\n",
    "                            tf.keras.layers.Dense(64, input_dim=64, kernel_regularizer=regularizers.l2(0.01)),\n",
    "                            tf.keras.layers.Dense(\n",
    "                                output_size, activation='softmax')\n",
    "                            ])\n",
    "\n",
    "model.compile(optimizer='adam',\n",
    "              loss='sparse_categorical_crossentropy', metrics=['accuracy'])\n",
    "\n",
    "\n",
    "batch_size = 100\n",
    "max_epochs = 50\n",
    "early_stopping = tf.keras.callbacks.EarlyStopping(patience=2)\n",
    "\n",
    "model.fit(train_inputs, train_targets, \n",
    "          batch_size=batch_size,\n",
    "          epochs= max_epochs,  \n",
    "          callbacks=[early_stopping], \n",
    "          validation_data=(validation_inputs, validation_targets), \n",
    "          verbose=2)"
   ]
  },
  {
   "cell_type": "code",
   "execution_count": 5,
   "metadata": {},
   "outputs": [
    {
     "name": "stdout",
     "output_type": "stream",
     "text": [
      "13/13 [==============================] - 0s 2ms/step - loss: 0.2583 - accuracy: 0.9500\n"
     ]
    }
   ],
   "source": [
    "test_loss, test_accuracy = model.evaluate(test_inputs, test_targets)"
   ]
  }
 ],
 "metadata": {
  "kernelspec": {
   "display_name": "py3-TF2.0",
   "language": "python",
   "name": "python3"
  },
  "language_info": {
   "codemirror_mode": {
    "name": "ipython",
    "version": 3
   },
   "file_extension": ".py",
   "mimetype": "text/x-python",
   "name": "python",
   "nbconvert_exporter": "python",
   "pygments_lexer": "ipython3",
   "version": "3.11.5"
  }
 },
 "nbformat": 4,
 "nbformat_minor": 2
}
