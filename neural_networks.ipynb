{
 "cells": [
  {
   "cell_type": "code",
   "execution_count": 1,
   "metadata": {},
   "outputs": [
    {
     "name": "stdout",
     "output_type": "stream",
     "text": [
      "WARNING:tensorflow:From c:\\ProgramData\\anaconda3\\envs\\py3-TF2.0\\Lib\\site-packages\\keras\\src\\losses.py:2976: The name tf.losses.sparse_softmax_cross_entropy is deprecated. Please use tf.compat.v1.losses.sparse_softmax_cross_entropy instead.\n",
      "\n"
     ]
    }
   ],
   "source": [
    "import numpy as np\n",
    "import tensorflow as tf\n",
    "from keras import regularizers"
   ]
  },
  {
   "cell_type": "markdown",
   "metadata": {},
   "source": [
    "### Loading the data"
   ]
  },
  {
   "cell_type": "code",
   "execution_count": 2,
   "metadata": {},
   "outputs": [],
   "source": [
    "npz = np.load('Mobile_price_test.npz')\n",
    "\n",
    "train_inputs, train_targets = npz['inputs'].astype(np.float16), npz['targets'].astype(np.int32)\n",
    "\n",
    "npz = np.load('Mobile_price_validation.npz')\n",
    "\n",
    "validation_inputs, validation_targets = npz['inputs'].astype(np.float16), npz['targets'].astype(np.int32)\n",
    "\n",
    "npz = np.load('Mobile_price_test.npz')\n",
    "\n",
    "test_inputs, test_targets = npz['inputs'].astype(np.float16), npz['targets'].astype(np.int32)"
   ]
  },
  {
   "cell_type": "code",
   "execution_count": 3,
   "metadata": {},
   "outputs": [
    {
     "data": {
      "text/plain": [
       "(400, 17)"
      ]
     },
     "execution_count": 3,
     "metadata": {},
     "output_type": "execute_result"
    }
   ],
   "source": [
    "train_inputs.shape"
   ]
  },
  {
   "cell_type": "code",
   "execution_count": 11,
   "metadata": {},
   "outputs": [
    {
     "name": "stdout",
     "output_type": "stream",
     "text": [
      "Epoch 1/50\n",
      "4/4 - 1s - loss: 2.3493 - accuracy: 0.2625 - val_loss: 2.1254 - val_accuracy: 0.4656 - 1s/epoch - 336ms/step\n",
      "Epoch 2/50\n",
      "4/4 - 0s - loss: 2.1927 - accuracy: 0.3825 - val_loss: 2.0343 - val_accuracy: 0.5188 - 53ms/epoch - 13ms/step\n",
      "Epoch 3/50\n",
      "4/4 - 0s - loss: 2.0572 - accuracy: 0.4800 - val_loss: 1.9541 - val_accuracy: 0.5531 - 50ms/epoch - 13ms/step\n",
      "Epoch 4/50\n",
      "4/4 - 0s - loss: 1.9578 - accuracy: 0.5375 - val_loss: 1.8775 - val_accuracy: 0.5688 - 53ms/epoch - 13ms/step\n",
      "Epoch 5/50\n",
      "4/4 - 0s - loss: 1.8663 - accuracy: 0.5475 - val_loss: 1.8083 - val_accuracy: 0.5938 - 42ms/epoch - 11ms/step\n",
      "Epoch 6/50\n",
      "4/4 - 0s - loss: 1.7814 - accuracy: 0.6025 - val_loss: 1.7468 - val_accuracy: 0.6125 - 43ms/epoch - 11ms/step\n",
      "Epoch 7/50\n",
      "4/4 - 0s - loss: 1.7553 - accuracy: 0.5550 - val_loss: 1.6915 - val_accuracy: 0.6469 - 51ms/epoch - 13ms/step\n",
      "Epoch 8/50\n",
      "4/4 - 0s - loss: 1.6740 - accuracy: 0.6175 - val_loss: 1.6415 - val_accuracy: 0.6656 - 49ms/epoch - 12ms/step\n",
      "Epoch 9/50\n",
      "4/4 - 0s - loss: 1.5819 - accuracy: 0.6950 - val_loss: 1.5946 - val_accuracy: 0.6781 - 46ms/epoch - 11ms/step\n",
      "Epoch 10/50\n",
      "4/4 - 0s - loss: 1.5656 - accuracy: 0.6675 - val_loss: 1.5522 - val_accuracy: 0.6750 - 57ms/epoch - 14ms/step\n",
      "Epoch 11/50\n",
      "4/4 - 0s - loss: 1.5185 - accuracy: 0.6825 - val_loss: 1.5080 - val_accuracy: 0.6938 - 47ms/epoch - 12ms/step\n",
      "Epoch 12/50\n",
      "4/4 - 0s - loss: 1.4500 - accuracy: 0.7175 - val_loss: 1.4674 - val_accuracy: 0.7063 - 41ms/epoch - 10ms/step\n",
      "Epoch 13/50\n",
      "4/4 - 0s - loss: 1.4486 - accuracy: 0.7000 - val_loss: 1.4285 - val_accuracy: 0.7250 - 49ms/epoch - 12ms/step\n",
      "Epoch 14/50\n",
      "4/4 - 0s - loss: 1.3776 - accuracy: 0.7525 - val_loss: 1.3928 - val_accuracy: 0.7406 - 38ms/epoch - 10ms/step\n",
      "Epoch 15/50\n",
      "4/4 - 0s - loss: 1.3907 - accuracy: 0.7225 - val_loss: 1.3568 - val_accuracy: 0.7375 - 51ms/epoch - 13ms/step\n",
      "Epoch 16/50\n",
      "4/4 - 0s - loss: 1.3326 - accuracy: 0.7175 - val_loss: 1.3232 - val_accuracy: 0.7344 - 59ms/epoch - 15ms/step\n",
      "Epoch 17/50\n",
      "4/4 - 0s - loss: 1.2875 - accuracy: 0.7275 - val_loss: 1.2926 - val_accuracy: 0.7437 - 34ms/epoch - 8ms/step\n",
      "Epoch 18/50\n",
      "4/4 - 0s - loss: 1.2345 - accuracy: 0.7950 - val_loss: 1.2652 - val_accuracy: 0.7531 - 51ms/epoch - 13ms/step\n",
      "Epoch 19/50\n",
      "4/4 - 0s - loss: 1.2068 - accuracy: 0.8000 - val_loss: 1.2371 - val_accuracy: 0.7594 - 52ms/epoch - 13ms/step\n",
      "Epoch 20/50\n",
      "4/4 - 0s - loss: 1.2296 - accuracy: 0.7450 - val_loss: 1.2074 - val_accuracy: 0.7719 - 48ms/epoch - 12ms/step\n",
      "Epoch 21/50\n",
      "4/4 - 0s - loss: 1.1624 - accuracy: 0.7825 - val_loss: 1.1799 - val_accuracy: 0.7719 - 48ms/epoch - 12ms/step\n",
      "Epoch 22/50\n",
      "4/4 - 0s - loss: 1.1536 - accuracy: 0.7850 - val_loss: 1.1544 - val_accuracy: 0.7750 - 48ms/epoch - 12ms/step\n",
      "Epoch 23/50\n",
      "4/4 - 0s - loss: 1.1034 - accuracy: 0.7975 - val_loss: 1.1307 - val_accuracy: 0.7844 - 58ms/epoch - 14ms/step\n",
      "Epoch 24/50\n",
      "4/4 - 0s - loss: 1.0880 - accuracy: 0.8150 - val_loss: 1.1064 - val_accuracy: 0.7812 - 49ms/epoch - 12ms/step\n",
      "Epoch 25/50\n",
      "4/4 - 0s - loss: 1.0727 - accuracy: 0.7975 - val_loss: 1.0846 - val_accuracy: 0.7875 - 43ms/epoch - 11ms/step\n",
      "Epoch 26/50\n",
      "4/4 - 0s - loss: 1.0295 - accuracy: 0.8350 - val_loss: 1.0623 - val_accuracy: 0.7969 - 45ms/epoch - 11ms/step\n",
      "Epoch 27/50\n",
      "4/4 - 0s - loss: 1.0071 - accuracy: 0.8325 - val_loss: 1.0399 - val_accuracy: 0.7906 - 40ms/epoch - 10ms/step\n",
      "Epoch 28/50\n",
      "4/4 - 0s - loss: 0.9768 - accuracy: 0.8425 - val_loss: 1.0173 - val_accuracy: 0.7844 - 46ms/epoch - 12ms/step\n",
      "Epoch 29/50\n",
      "4/4 - 0s - loss: 0.9657 - accuracy: 0.8425 - val_loss: 0.9970 - val_accuracy: 0.7906 - 49ms/epoch - 12ms/step\n",
      "Epoch 30/50\n",
      "4/4 - 0s - loss: 0.9525 - accuracy: 0.8175 - val_loss: 0.9780 - val_accuracy: 0.8031 - 56ms/epoch - 14ms/step\n",
      "Epoch 31/50\n",
      "4/4 - 0s - loss: 0.9174 - accuracy: 0.8475 - val_loss: 0.9621 - val_accuracy: 0.8250 - 53ms/epoch - 13ms/step\n",
      "Epoch 32/50\n",
      "4/4 - 0s - loss: 0.8798 - accuracy: 0.8625 - val_loss: 0.9437 - val_accuracy: 0.8250 - 55ms/epoch - 14ms/step\n",
      "Epoch 33/50\n",
      "4/4 - 0s - loss: 0.8670 - accuracy: 0.8550 - val_loss: 0.9222 - val_accuracy: 0.8219 - 53ms/epoch - 13ms/step\n",
      "Epoch 34/50\n",
      "4/4 - 0s - loss: 0.8500 - accuracy: 0.8700 - val_loss: 0.9016 - val_accuracy: 0.8188 - 58ms/epoch - 15ms/step\n",
      "Epoch 35/50\n",
      "4/4 - 0s - loss: 0.8485 - accuracy: 0.8500 - val_loss: 0.8836 - val_accuracy: 0.8219 - 52ms/epoch - 13ms/step\n",
      "Epoch 36/50\n",
      "4/4 - 0s - loss: 0.8182 - accuracy: 0.8750 - val_loss: 0.8670 - val_accuracy: 0.8375 - 41ms/epoch - 10ms/step\n",
      "Epoch 37/50\n",
      "4/4 - 0s - loss: 0.7805 - accuracy: 0.8725 - val_loss: 0.8537 - val_accuracy: 0.8469 - 53ms/epoch - 13ms/step\n",
      "Epoch 38/50\n",
      "4/4 - 0s - loss: 0.7991 - accuracy: 0.8550 - val_loss: 0.8390 - val_accuracy: 0.8594 - 47ms/epoch - 12ms/step\n",
      "Epoch 39/50\n",
      "4/4 - 0s - loss: 0.7555 - accuracy: 0.8875 - val_loss: 0.8232 - val_accuracy: 0.8531 - 50ms/epoch - 12ms/step\n",
      "Epoch 40/50\n",
      "4/4 - 0s - loss: 0.7525 - accuracy: 0.8775 - val_loss: 0.8066 - val_accuracy: 0.8531 - 45ms/epoch - 11ms/step\n",
      "Epoch 41/50\n",
      "4/4 - 0s - loss: 0.7556 - accuracy: 0.8550 - val_loss: 0.7922 - val_accuracy: 0.8438 - 48ms/epoch - 12ms/step\n",
      "Epoch 42/50\n",
      "4/4 - 0s - loss: 0.7187 - accuracy: 0.8975 - val_loss: 0.7779 - val_accuracy: 0.8469 - 49ms/epoch - 12ms/step\n",
      "Epoch 43/50\n",
      "4/4 - 0s - loss: 0.6903 - accuracy: 0.9000 - val_loss: 0.7640 - val_accuracy: 0.8594 - 45ms/epoch - 11ms/step\n",
      "Epoch 44/50\n",
      "4/4 - 0s - loss: 0.6917 - accuracy: 0.8975 - val_loss: 0.7523 - val_accuracy: 0.8625 - 51ms/epoch - 13ms/step\n",
      "Epoch 45/50\n",
      "4/4 - 0s - loss: 0.6967 - accuracy: 0.8825 - val_loss: 0.7403 - val_accuracy: 0.8687 - 47ms/epoch - 12ms/step\n",
      "Epoch 46/50\n",
      "4/4 - 0s - loss: 0.6423 - accuracy: 0.9175 - val_loss: 0.7303 - val_accuracy: 0.8656 - 47ms/epoch - 12ms/step\n",
      "Epoch 47/50\n",
      "4/4 - 0s - loss: 0.6823 - accuracy: 0.8825 - val_loss: 0.7206 - val_accuracy: 0.8656 - 55ms/epoch - 14ms/step\n",
      "Epoch 48/50\n",
      "4/4 - 0s - loss: 0.6241 - accuracy: 0.9275 - val_loss: 0.7099 - val_accuracy: 0.8656 - 53ms/epoch - 13ms/step\n",
      "Epoch 49/50\n",
      "4/4 - 0s - loss: 0.6229 - accuracy: 0.9175 - val_loss: 0.7001 - val_accuracy: 0.8656 - 52ms/epoch - 13ms/step\n",
      "Epoch 50/50\n",
      "4/4 - 0s - loss: 0.6080 - accuracy: 0.9100 - val_loss: 0.6888 - val_accuracy: 0.8687 - 52ms/epoch - 13ms/step\n"
     ]
    },
    {
     "data": {
      "text/plain": [
       "<keras.src.callbacks.History at 0x1e8290de610>"
      ]
     },
     "execution_count": 11,
     "metadata": {},
     "output_type": "execute_result"
    }
   ],
   "source": [
    "output_size = 4\n",
    "hidden_layer_size = 150\n",
    "model = tf.keras.Sequential([\n",
    "                            tf.keras.layers.Dense(\n",
    "                                hidden_layer_size, activation='relu'),\n",
    "                            tf.keras.layers.Dropout(0.5),\n",
    "                            tf.keras.layers.Dense(64, input_dim=64, kernel_regularizer=regularizers.l2(0.01)),\n",
    "                            tf.keras.layers.Dense(\n",
    "                                output_size, activation='softmax')\n",
    "                            ])\n",
    "\n",
    "model.compile(optimizer='adam',\n",
    "              loss='sparse_categorical_crossentropy', metrics=['accuracy'])\n",
    "\n",
    "\n",
    "batch_size = 100\n",
    "max_epochs = 50\n",
    "early_stopping = tf.keras.callbacks.EarlyStopping(patience=2)\n",
    "\n",
    "model.fit(train_inputs, train_targets, \n",
    "          batch_size=batch_size,\n",
    "          epochs= max_epochs,  \n",
    "          callbacks=[early_stopping], \n",
    "          validation_data=(validation_inputs, validation_targets), \n",
    "          verbose=2)"
   ]
  },
  {
   "cell_type": "code",
   "execution_count": 12,
   "metadata": {},
   "outputs": [
    {
     "name": "stdout",
     "output_type": "stream",
     "text": [
      "13/13 [==============================] - 0s 2ms/step - loss: 0.5259 - accuracy: 0.9775\n"
     ]
    }
   ],
   "source": [
    "test_loss, test_accuracy = model.evaluate(test_inputs, test_targets)"
   ]
  }
 ],
 "metadata": {
  "kernelspec": {
   "display_name": "py3-TF2.0",
   "language": "python",
   "name": "python3"
  },
  "language_info": {
   "codemirror_mode": {
    "name": "ipython",
    "version": 3
   },
   "file_extension": ".py",
   "mimetype": "text/x-python",
   "name": "python",
   "nbconvert_exporter": "python",
   "pygments_lexer": "ipython3",
   "version": "3.11.5"
  }
 },
 "nbformat": 4,
 "nbformat_minor": 2
}
